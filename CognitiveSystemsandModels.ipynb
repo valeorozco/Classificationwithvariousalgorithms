{
  "nbformat": 4,
  "nbformat_minor": 0,
  "metadata": {
    "colab": {
      "name": "CognitiveSystemsandModels.ipynb",
      "provenance": [],
      "collapsed_sections": []
    },
    "kernelspec": {
      "name": "python3",
      "display_name": "Python 3"
    },
    "language_info": {
      "name": "python"
    }
  },
  "cells": [
    {
      "cell_type": "markdown",
      "source": [
        "# SUPERVISED LEARNING FOR WINE CLASSIFICATION\n",
        "\n",
        "\n",
        "\n",
        "*   #### Binary multi-classification: Machine identifying between white and red.\n",
        "*   #### Multi-class classification: Machine identifying between different ranges of quality. \n",
        "\n",
        " \n",
        "*Contributors:* Deniz Hepdogan, Adriana López Hernández and Valeria Orozco Castiblanco.\n"
      ],
      "metadata": {
        "id": "tRztxVS3EJCd"
      }
    },
    {
      "cell_type": "markdown",
      "source": [
        "We decided to implement supervised learning on a multilayer perceptron on two different tasks:\n",
        "\n",
        "\n",
        "\n",
        "1.   First, a binary classification in which the possible outcomes were the type of wine, either white or red. \n",
        "2.   Second, a multi-class classification in which the possible outcomes were the quality of wine, on a scale from 1 to 6. \n",
        "\n",
        "\n"
      ],
      "metadata": {
        "id": "PraXtraTHN8Q"
      }
    },
    {
      "cell_type": "markdown",
      "source": [
        "To begin, we import the neccessary modules:"
      ],
      "metadata": {
        "id": "R0pQWCb8O8my"
      }
    },
    {
      "cell_type": "code",
      "execution_count": null,
      "metadata": {
        "id": "JYIh3yDu0qRj"
      },
      "outputs": [],
      "source": [
        "import numpy as np\n",
        "import matplotlib.pyplot as plt\n",
        "import seaborn as sns\n",
        "import pandas as pd\n",
        "from IPython.display import clear_output\n",
        "import itertools \n",
        "\n",
        "# Data transformation imports\n",
        "from sklearn.model_selection import train_test_split\n",
        "from sklearn.preprocessing import StandardScaler\n",
        "\n",
        "# Model imports\n",
        "from sklearn import tree\n",
        "from sklearn.tree import DecisionTreeClassifier\n",
        "from sklearn.neighbors import KNeighborsClassifier\n",
        "from sklearn.metrics import mean_squared_error\n",
        "from sklearn.neural_network import MLPClassifier\n",
        "from sklearn.datasets import make_classification\n",
        "from sklearn.model_selection import train_test_split\n",
        "\n",
        "# Model evaluation imports\n",
        "from sklearn import metrics\n",
        "from sklearn.metrics import classification_report, confusion_matrix"
      ]
    },
    {
      "cell_type": "code",
      "source": [
        "# We import the dataset from a .csv document (in the cloud)\n",
        "!wget --no-check-certificate 'https://docs.google.com/uc?export=download&id=1r-kRQElRLgx9vi6lLDNIOsArbnshIcxv' -O winequalityN.csv\n",
        "\n",
        "# We use p tag to download into a directory\n",
        "!wget --no-check-certificate 'https://docs.google.com/uc?export=download&id=1r-kRQElRLgx9vi6lLDNIOsArbnshIcxv' -O winequalityN.csv && mkdir mkdir -p ~/data/directory_name\n",
        "clear_output()\n",
        "\n",
        "# We create a Dataframe with the information from the dataset\n",
        "data = pd.read_csv('winequalityN.csv')\n",
        "wine_data = pd.DataFrame(data)\n",
        "\n",
        "# We clean the dataset: In case we have empty rows, we eliminate them\n",
        "wine_data = wine_data.dropna()\n",
        "wine_data = wine_data.reset_index(drop=True)\n",
        "\n",
        "wine_data.head()"
      ],
      "metadata": {
        "id": "BnqCR5or2WyW",
        "colab": {
          "base_uri": "https://localhost:8080/",
          "height": 305
        },
        "outputId": "c1f788c5-19d6-4a77-9dd0-5ba26b803166"
      },
      "execution_count": null,
      "outputs": [
        {
          "output_type": "execute_result",
          "data": {
            "text/plain": [
              "   fixed acidity  volatile acidity  citric acid  residual sugar  chlorides  \\\n",
              "0            7.0              0.27         0.36            20.7      0.045   \n",
              "1            6.3              0.30         0.34             1.6      0.049   \n",
              "2            8.1              0.28         0.40             6.9      0.050   \n",
              "3            7.2              0.23         0.32             8.5      0.058   \n",
              "4            7.2              0.23         0.32             8.5      0.058   \n",
              "\n",
              "   free sulfur dioxide  total sulfur dioxide  density    pH  sulphates  \\\n",
              "0                 45.0                 170.0   1.0010  3.00       0.45   \n",
              "1                 14.0                 132.0   0.9940  3.30       0.49   \n",
              "2                 30.0                  97.0   0.9951  3.26       0.44   \n",
              "3                 47.0                 186.0   0.9956  3.19       0.40   \n",
              "4                 47.0                 186.0   0.9956  3.19       0.40   \n",
              "\n",
              "   alcohol  quality   type  \n",
              "0      8.8        6  white  \n",
              "1      9.5        6  white  \n",
              "2     10.1        6  white  \n",
              "3      9.9        6  white  \n",
              "4      9.9        6  white  "
            ],
            "text/html": [
              "\n",
              "  <div id=\"df-29877df1-1d60-4f6a-8c5d-16e6574aee28\">\n",
              "    <div class=\"colab-df-container\">\n",
              "      <div>\n",
              "<style scoped>\n",
              "    .dataframe tbody tr th:only-of-type {\n",
              "        vertical-align: middle;\n",
              "    }\n",
              "\n",
              "    .dataframe tbody tr th {\n",
              "        vertical-align: top;\n",
              "    }\n",
              "\n",
              "    .dataframe thead th {\n",
              "        text-align: right;\n",
              "    }\n",
              "</style>\n",
              "<table border=\"1\" class=\"dataframe\">\n",
              "  <thead>\n",
              "    <tr style=\"text-align: right;\">\n",
              "      <th></th>\n",
              "      <th>fixed acidity</th>\n",
              "      <th>volatile acidity</th>\n",
              "      <th>citric acid</th>\n",
              "      <th>residual sugar</th>\n",
              "      <th>chlorides</th>\n",
              "      <th>free sulfur dioxide</th>\n",
              "      <th>total sulfur dioxide</th>\n",
              "      <th>density</th>\n",
              "      <th>pH</th>\n",
              "      <th>sulphates</th>\n",
              "      <th>alcohol</th>\n",
              "      <th>quality</th>\n",
              "      <th>type</th>\n",
              "    </tr>\n",
              "  </thead>\n",
              "  <tbody>\n",
              "    <tr>\n",
              "      <th>0</th>\n",
              "      <td>7.0</td>\n",
              "      <td>0.27</td>\n",
              "      <td>0.36</td>\n",
              "      <td>20.7</td>\n",
              "      <td>0.045</td>\n",
              "      <td>45.0</td>\n",
              "      <td>170.0</td>\n",
              "      <td>1.0010</td>\n",
              "      <td>3.00</td>\n",
              "      <td>0.45</td>\n",
              "      <td>8.8</td>\n",
              "      <td>6</td>\n",
              "      <td>white</td>\n",
              "    </tr>\n",
              "    <tr>\n",
              "      <th>1</th>\n",
              "      <td>6.3</td>\n",
              "      <td>0.30</td>\n",
              "      <td>0.34</td>\n",
              "      <td>1.6</td>\n",
              "      <td>0.049</td>\n",
              "      <td>14.0</td>\n",
              "      <td>132.0</td>\n",
              "      <td>0.9940</td>\n",
              "      <td>3.30</td>\n",
              "      <td>0.49</td>\n",
              "      <td>9.5</td>\n",
              "      <td>6</td>\n",
              "      <td>white</td>\n",
              "    </tr>\n",
              "    <tr>\n",
              "      <th>2</th>\n",
              "      <td>8.1</td>\n",
              "      <td>0.28</td>\n",
              "      <td>0.40</td>\n",
              "      <td>6.9</td>\n",
              "      <td>0.050</td>\n",
              "      <td>30.0</td>\n",
              "      <td>97.0</td>\n",
              "      <td>0.9951</td>\n",
              "      <td>3.26</td>\n",
              "      <td>0.44</td>\n",
              "      <td>10.1</td>\n",
              "      <td>6</td>\n",
              "      <td>white</td>\n",
              "    </tr>\n",
              "    <tr>\n",
              "      <th>3</th>\n",
              "      <td>7.2</td>\n",
              "      <td>0.23</td>\n",
              "      <td>0.32</td>\n",
              "      <td>8.5</td>\n",
              "      <td>0.058</td>\n",
              "      <td>47.0</td>\n",
              "      <td>186.0</td>\n",
              "      <td>0.9956</td>\n",
              "      <td>3.19</td>\n",
              "      <td>0.40</td>\n",
              "      <td>9.9</td>\n",
              "      <td>6</td>\n",
              "      <td>white</td>\n",
              "    </tr>\n",
              "    <tr>\n",
              "      <th>4</th>\n",
              "      <td>7.2</td>\n",
              "      <td>0.23</td>\n",
              "      <td>0.32</td>\n",
              "      <td>8.5</td>\n",
              "      <td>0.058</td>\n",
              "      <td>47.0</td>\n",
              "      <td>186.0</td>\n",
              "      <td>0.9956</td>\n",
              "      <td>3.19</td>\n",
              "      <td>0.40</td>\n",
              "      <td>9.9</td>\n",
              "      <td>6</td>\n",
              "      <td>white</td>\n",
              "    </tr>\n",
              "  </tbody>\n",
              "</table>\n",
              "</div>\n",
              "      <button class=\"colab-df-convert\" onclick=\"convertToInteractive('df-29877df1-1d60-4f6a-8c5d-16e6574aee28')\"\n",
              "              title=\"Convert this dataframe to an interactive table.\"\n",
              "              style=\"display:none;\">\n",
              "        \n",
              "  <svg xmlns=\"http://www.w3.org/2000/svg\" height=\"24px\"viewBox=\"0 0 24 24\"\n",
              "       width=\"24px\">\n",
              "    <path d=\"M0 0h24v24H0V0z\" fill=\"none\"/>\n",
              "    <path d=\"M18.56 5.44l.94 2.06.94-2.06 2.06-.94-2.06-.94-.94-2.06-.94 2.06-2.06.94zm-11 1L8.5 8.5l.94-2.06 2.06-.94-2.06-.94L8.5 2.5l-.94 2.06-2.06.94zm10 10l.94 2.06.94-2.06 2.06-.94-2.06-.94-.94-2.06-.94 2.06-2.06.94z\"/><path d=\"M17.41 7.96l-1.37-1.37c-.4-.4-.92-.59-1.43-.59-.52 0-1.04.2-1.43.59L10.3 9.45l-7.72 7.72c-.78.78-.78 2.05 0 2.83L4 21.41c.39.39.9.59 1.41.59.51 0 1.02-.2 1.41-.59l7.78-7.78 2.81-2.81c.8-.78.8-2.07 0-2.86zM5.41 20L4 18.59l7.72-7.72 1.47 1.35L5.41 20z\"/>\n",
              "  </svg>\n",
              "      </button>\n",
              "      \n",
              "  <style>\n",
              "    .colab-df-container {\n",
              "      display:flex;\n",
              "      flex-wrap:wrap;\n",
              "      gap: 12px;\n",
              "    }\n",
              "\n",
              "    .colab-df-convert {\n",
              "      background-color: #E8F0FE;\n",
              "      border: none;\n",
              "      border-radius: 50%;\n",
              "      cursor: pointer;\n",
              "      display: none;\n",
              "      fill: #1967D2;\n",
              "      height: 32px;\n",
              "      padding: 0 0 0 0;\n",
              "      width: 32px;\n",
              "    }\n",
              "\n",
              "    .colab-df-convert:hover {\n",
              "      background-color: #E2EBFA;\n",
              "      box-shadow: 0px 1px 2px rgba(60, 64, 67, 0.3), 0px 1px 3px 1px rgba(60, 64, 67, 0.15);\n",
              "      fill: #174EA6;\n",
              "    }\n",
              "\n",
              "    [theme=dark] .colab-df-convert {\n",
              "      background-color: #3B4455;\n",
              "      fill: #D2E3FC;\n",
              "    }\n",
              "\n",
              "    [theme=dark] .colab-df-convert:hover {\n",
              "      background-color: #434B5C;\n",
              "      box-shadow: 0px 1px 3px 1px rgba(0, 0, 0, 0.15);\n",
              "      filter: drop-shadow(0px 1px 2px rgba(0, 0, 0, 0.3));\n",
              "      fill: #FFFFFF;\n",
              "    }\n",
              "  </style>\n",
              "\n",
              "      <script>\n",
              "        const buttonEl =\n",
              "          document.querySelector('#df-29877df1-1d60-4f6a-8c5d-16e6574aee28 button.colab-df-convert');\n",
              "        buttonEl.style.display =\n",
              "          google.colab.kernel.accessAllowed ? 'block' : 'none';\n",
              "\n",
              "        async function convertToInteractive(key) {\n",
              "          const element = document.querySelector('#df-29877df1-1d60-4f6a-8c5d-16e6574aee28');\n",
              "          const dataTable =\n",
              "            await google.colab.kernel.invokeFunction('convertToInteractive',\n",
              "                                                     [key], {});\n",
              "          if (!dataTable) return;\n",
              "\n",
              "          const docLinkHtml = 'Like what you see? Visit the ' +\n",
              "            '<a target=\"_blank\" href=https://colab.research.google.com/notebooks/data_table.ipynb>data table notebook</a>'\n",
              "            + ' to learn more about interactive tables.';\n",
              "          element.innerHTML = '';\n",
              "          dataTable['output_type'] = 'display_data';\n",
              "          await google.colab.output.renderOutput(dataTable, element);\n",
              "          const docLink = document.createElement('div');\n",
              "          docLink.innerHTML = docLinkHtml;\n",
              "          element.appendChild(docLink);\n",
              "        }\n",
              "      </script>\n",
              "    </div>\n",
              "  </div>\n",
              "  "
            ]
          },
          "metadata": {},
          "execution_count": 52
        }
      ]
    },
    {
      "cell_type": "code",
      "source": [
        "print(data.keys())"
      ],
      "metadata": {
        "id": "wTtZCxZmiEO3",
        "colab": {
          "base_uri": "https://localhost:8080/"
        },
        "outputId": "11016d64-453e-48aa-9adb-1cf04e007a61"
      },
      "execution_count": null,
      "outputs": [
        {
          "output_type": "stream",
          "name": "stdout",
          "text": [
            "Index(['fixed acidity', 'volatile acidity', 'citric acid', 'residual sugar',\n",
            "       'chlorides', 'free sulfur dioxide', 'total sulfur dioxide', 'density',\n",
            "       'pH', 'sulphates', 'alcohol', 'quality', 'type'],\n",
            "      dtype='object')\n"
          ]
        }
      ]
    },
    {
      "cell_type": "markdown",
      "source": [
        "* `Fixed acidity, volatile acidity, citric acid, residual sugar, chlorides, free sulfur dioxide, total sulfur dioxide, density, pH, sulphates, alcohol and quality` contain the features that are used to classify the wines in either red or white. \n",
        "\n",
        "* `type`: Contains the names for the classes"
      ],
      "metadata": {
        "id": "FJ34w9EfiFXG"
      }
    },
    {
      "cell_type": "code",
      "source": [
        "# We clean the dataset: In case we have empty rows, we eliminate them\n",
        "wine_data = wine_data.dropna()\n",
        "wine_data = wine_data.reset_index(drop=True)\n",
        "\n",
        "# We separate the data in training (input) and testing (output) \n",
        "wine_input_data = wine_data.drop(\"type\", axis=1)\n",
        "wine_output_data = wine_data[\"type\"]"
      ],
      "metadata": {
        "id": "8wIFtP5miLWc"
      },
      "execution_count": null,
      "outputs": []
    },
    {
      "cell_type": "markdown",
      "source": [
        "The data is divided into train and test with the `train_test_split` function\n",
        "\n",
        "\n",
        "*   `wine_input_data` contains the data used for training\n",
        "*   `wine_output_data` contains the labels \"red\" or \"white\"\n"
      ],
      "metadata": {
        "id": "1JCjaRwciRzp"
      }
    },
    {
      "cell_type": "code",
      "source": [
        "wine_x_train, wine_x_test, wine_y_train, wine_y_test = train_test_split(wine_input_data, wine_output_data, random_state=6)"
      ],
      "metadata": {
        "id": "_bt1uf_JiPZW"
      },
      "execution_count": null,
      "outputs": []
    },
    {
      "cell_type": "markdown",
      "source": [
        "Data is scaled using `StandardScaler()`"
      ],
      "metadata": {
        "id": "rm9JNJ78ikM7"
      }
    },
    {
      "cell_type": "code",
      "source": [
        "# We scale our data\n",
        "scaler = StandardScaler().fit(wine_input_data)\n",
        "\n",
        "wine_x_train = scaler.transform(wine_x_train)\n",
        "wine_x_test = scaler.transform(wine_x_test)"
      ],
      "metadata": {
        "id": "oPP0RrnxilnI"
      },
      "execution_count": null,
      "outputs": []
    },
    {
      "cell_type": "markdown",
      "source": [
        "## Multilayer Perceptron"
      ],
      "metadata": {
        "id": "gGuRpNuQ-Pgb"
      }
    },
    {
      "cell_type": "markdown",
      "source": [
        "We implement a multi-layered perceptron using backpropagation.\n",
        "\n",
        "### Building the `MLPClassifier` model\n",
        "We set it at 10 units in the hidden layer:"
      ],
      "metadata": {
        "id": "fz4DXHnxiulC"
      }
    },
    {
      "cell_type": "code",
      "source": [
        "#Build an multilayer perceptron using MLPClassifier function from sklearn.neural_network\n",
        "mlp = MLPClassifier(hidden_layer_sizes=(10,10), max_iter=1000)"
      ],
      "metadata": {
        "id": "pWDFhRS5io02"
      },
      "execution_count": null,
      "outputs": []
    },
    {
      "cell_type": "markdown",
      "source": [
        "### Training the `MLPClassifier` model for binary classification\n"
      ],
      "metadata": {
        "id": "Fo0Evfz3i1LD"
      }
    },
    {
      "cell_type": "code",
      "source": [
        "#Train the model\n",
        "mlp.fit(wine_x_train, wine_y_train)"
      ],
      "metadata": {
        "id": "FzDvRqLci7fa",
        "colab": {
          "base_uri": "https://localhost:8080/"
        },
        "outputId": "a07e54b1-dbf8-4406-ea5f-cce60997f574"
      },
      "execution_count": null,
      "outputs": [
        {
          "output_type": "execute_result",
          "data": {
            "text/plain": [
              "MLPClassifier(hidden_layer_sizes=(10, 10), max_iter=1000)"
            ]
          },
          "metadata": {},
          "execution_count": 58
        }
      ]
    },
    {
      "cell_type": "markdown",
      "source": [
        "###Testing the `MLPClassifier` model for binary classification\n",
        "\n",
        "\n",
        "\n"
      ],
      "metadata": {
        "id": "Ce-Nh7BCjGhb"
      }
    },
    {
      "cell_type": "code",
      "source": [
        "#Test\n",
        "predictions = mlp.predict(wine_x_test)\n",
        "\n",
        "#Print predictions\n",
        "print(predictions)"
      ],
      "metadata": {
        "id": "FP6t5VlQjK-g",
        "colab": {
          "base_uri": "https://localhost:8080/"
        },
        "outputId": "232fdd53-881a-4984-f320-0adc4ea8a7ae"
      },
      "execution_count": null,
      "outputs": [
        {
          "output_type": "stream",
          "name": "stdout",
          "text": [
            "['red' 'red' 'white' ... 'white' 'white' 'white']\n"
          ]
        }
      ]
    },
    {
      "cell_type": "markdown",
      "source": [
        "### Graph the loss function for the MLP model"
      ],
      "metadata": {
        "id": "0RyMIfVLRAMj"
      }
    },
    {
      "cell_type": "code",
      "source": [
        "print (mlp.score(wine_x_train,wine_y_train))\n",
        "plt.plot(mlp.loss_curve_)\n",
        "plt.xlabel('n-iterations')\n",
        "print('Iterations: ', len(mlp.loss_curve_))"
      ],
      "metadata": {
        "colab": {
          "base_uri": "https://localhost:8080/",
          "height": 318
        },
        "id": "GLg4ZceXQ_ss",
        "outputId": "6dfc1742-64d0-457b-bf10-b307ff57d9bb"
      },
      "execution_count": null,
      "outputs": [
        {
          "output_type": "stream",
          "name": "stdout",
          "text": [
            "0.9983579638752053\n",
            "Iterations:  187\n"
          ]
        },
        {
          "output_type": "display_data",
          "data": {
            "text/plain": [
              "<Figure size 432x288 with 1 Axes>"
            ],
            "image/png": "[encoded data removed]"
          },
          "metadata": {
            "needs_background": "light"
          }
        }
      ]
    },
    {
      "cell_type": "markdown",
      "source": [
        "###Evaluate the results of the model for binary classification"
      ],
      "metadata": {
        "id": "H1NQyxUmjWUO"
      }
    },
    {
      "cell_type": "code",
      "source": [
        "#Build a variable report and use classification_report function\n",
        "c_report = classification_report(wine_y_test, predictions)\n",
        "\n",
        "#print results\n",
        "print(\"Classification report for classifier %s:\\n%s\\n\"\n",
        "      % (mlp, c_report))\n",
        "\n",
        "cfn_matrix = confusion_matrix(wine_y_test, predictions)\n",
        "\n",
        "print(\"Confusion matrix:\\n%s\" % cfn_matrix)"
      ],
      "metadata": {
        "id": "4WSAwbfCjXWZ",
        "colab": {
          "base_uri": "https://localhost:8080/"
        },
        "outputId": "226651a5-4bbb-4782-b27c-c17e05d66642"
      },
      "execution_count": null,
      "outputs": [
        {
          "output_type": "stream",
          "name": "stdout",
          "text": [
            "Classification report for classifier MLPClassifier(hidden_layer_sizes=(10, 10), max_iter=1000):\n",
            "              precision    recall  f1-score   support\n",
            "\n",
            "         red       1.00      0.98      0.99       393\n",
            "       white       0.99      1.00      1.00      1232\n",
            "\n",
            "    accuracy                           1.00      1625\n",
            "   macro avg       1.00      0.99      0.99      1625\n",
            "weighted avg       1.00      1.00      1.00      1625\n",
            "\n",
            "\n",
            "Confusion matrix:\n",
            "[[ 386    7]\n",
            " [   0 1232]]\n"
          ]
        }
      ]
    },
    {
      "cell_type": "code",
      "source": [
        "print('Training', wine_input_data.shape)\n",
        "print('Test', wine_output_data.shape)"
      ],
      "metadata": {
        "id": "ZVKu2qTrjbem",
        "colab": {
          "base_uri": "https://localhost:8080/"
        },
        "outputId": "857ee518-62c3-4688-d11c-3385d506c159"
      },
      "execution_count": null,
      "outputs": [
        {
          "output_type": "stream",
          "name": "stdout",
          "text": [
            "Training (6497, 12)\n",
            "Test (6497,)\n"
          ]
        }
      ]
    },
    {
      "cell_type": "code",
      "source": [
        "#Define a function that plots the confusion matrix without normalization to verify if results are accurate or not\n",
        "def plot_confusion_matrix(cm, classes,\n",
        "                          normalize=False,\n",
        "                          title='Confusion matrix',\n",
        "                          cmap=plt.cm.Purples):\n",
        " \n",
        "    plt.imshow(cm, interpolation='nearest', cmap=cmap)\n",
        "    plt.title(title)\n",
        "    plt.colorbar()\n",
        "    tick_marks = np.arange(len(classes))\n",
        "    plt.xticks(tick_marks, classes, rotation=45)\n",
        "    plt.yticks(tick_marks, classes)\n",
        "\n",
        "    if normalize:\n",
        "        cm = cm.astype('float') / cm.sum(axis=1)[:, np.newaxis]\n",
        "        print(\"Normalized confusion matrix\")\n",
        "    else:\n",
        "        print('Confusion matrix, without normalization')\n",
        "\n",
        "    for i, j in itertools.product(range(cm.shape[0]), range(cm.shape[1])):\n",
        "        plt.text(j, i, \"{:1.2f}\".format(cm[i, j]),\n",
        "                 horizontalalignment=\"center\",\n",
        "                 # For the purpose of having a clearer visualization, make only the largest value white\n",
        "                 color=\"white\" if cm[i, j] > 0.99 else \"black\")\n",
        "\n",
        "    plt.tight_layout()\n",
        "    plt.ylabel('True label')\n",
        "    plt.xlabel('Predicted label')"
      ],
      "metadata": {
        "id": "owxfY2Kfje_o"
      },
      "execution_count": null,
      "outputs": []
    },
    {
      "cell_type": "code",
      "source": [
        "#Plot the matrix\n",
        "cnf_matrix = confusion_matrix(wine_y_test, predictions)\n",
        "plt.figure()\n",
        "plot_confusion_matrix(cnf_matrix, classes=['red', 'white'], normalize=True)"
      ],
      "metadata": {
        "id": "CmWSt6Tzjqxd",
        "colab": {
          "base_uri": "https://localhost:8080/",
          "height": 329
        },
        "outputId": "55340bc4-cb17-47cd-8fc1-83297f5f6f43"
      },
      "execution_count": null,
      "outputs": [
        {
          "output_type": "stream",
          "name": "stdout",
          "text": [
            "Normalized confusion matrix\n"
          ]
        },
        {
          "output_type": "display_data",
          "data": {
            "text/plain": [
              "<Figure size 432x288 with 2 Axes>"
            ],
            "image/png": "[encoded data removed]"
          },
          "metadata": {
            "needs_background": "light"
          }
        }
      ]
    },
    {
      "cell_type": "code",
      "source": [
        "def accuracy(confusion_matrix):\n",
        "   diagonal_sum = confusion_matrix.trace()\n",
        "   sum_of_all_elements = confusion_matrix.sum()\n",
        "   return diagonal_sum / sum_of_all_elements"
      ],
      "metadata": {
        "id": "hQ_j20YzjwJl"
      },
      "execution_count": null,
      "outputs": []
    },
    {
      "cell_type": "markdown",
      "source": [
        "### Model Evaluation"
      ],
      "metadata": {
        "id": "iPgI-WX5j5r4"
      }
    },
    {
      "cell_type": "code",
      "source": [
        "print(\"Accuracy of wine type classification with MLP: \", accuracy(cfn_matrix))\n"
      ],
      "metadata": {
        "id": "VIUguL-bjym5",
        "colab": {
          "base_uri": "https://localhost:8080/"
        },
        "outputId": "c91f985b-6eed-4843-8728-dbc463dd2ff8"
      },
      "execution_count": null,
      "outputs": [
        {
          "output_type": "stream",
          "name": "stdout",
          "text": [
            "Accuracy of wine type classification with MLP:  0.9956923076923077\n"
          ]
        }
      ]
    },
    {
      "cell_type": "markdown",
      "source": [
        "The accuracy for the model is 99%. It learnt and can therefore identify with the given data if the wine is either red or white.\n"
      ],
      "metadata": {
        "id": "On-BFaCyj2vz"
      }
    },
    {
      "cell_type": "markdown",
      "source": [
        "\n",
        "\n",
        "---\n",
        "\n"
      ],
      "metadata": {
        "id": "-JO5JoKUFMzb"
      }
    },
    {
      "cell_type": "markdown",
      "source": [
        "# Wine Quality Classification\n",
        "The quality feature of the dataset is measured with discrete values (3-9), so we will use classification and not regression.\n"
      ],
      "metadata": {
        "id": "_Gm8OKtWjBuG"
      }
    },
    {
      "cell_type": "code",
      "source": [
        "# We overwrite the Dataframe with the information from the original dataset\n",
        "data = pd.read_csv('winequalityN.csv')\n",
        "wine_data = pd.DataFrame(data)\n",
        "\n",
        "# We clean the dataset: In case we have empty rows, we eliminate them\n",
        "wine_data = wine_data.dropna()\n",
        "wine_data = wine_data.reset_index(drop=True)\n",
        "\n",
        "wine_data.head()"
      ],
      "metadata": {
        "id": "GhDNFqtXuVtt",
        "colab": {
          "base_uri": "https://localhost:8080/",
          "height": 305
        },
        "outputId": "d3888849-8781-43f1-b1b3-fa411cde12f1"
      },
      "execution_count": null,
      "outputs": [
        {
          "output_type": "execute_result",
          "data": {
            "text/plain": [
              "   fixed acidity  volatile acidity  citric acid  residual sugar  chlorides  \\\n",
              "0            7.0              0.27         0.36            20.7      0.045   \n",
              "1            6.3              0.30         0.34             1.6      0.049   \n",
              "2            8.1              0.28         0.40             6.9      0.050   \n",
              "3            7.2              0.23         0.32             8.5      0.058   \n",
              "4            7.2              0.23         0.32             8.5      0.058   \n",
              "\n",
              "   free sulfur dioxide  total sulfur dioxide  density    pH  sulphates  \\\n",
              "0                 45.0                 170.0   1.0010  3.00       0.45   \n",
              "1                 14.0                 132.0   0.9940  3.30       0.49   \n",
              "2                 30.0                  97.0   0.9951  3.26       0.44   \n",
              "3                 47.0                 186.0   0.9956  3.19       0.40   \n",
              "4                 47.0                 186.0   0.9956  3.19       0.40   \n",
              "\n",
              "   alcohol  quality   type  \n",
              "0      8.8        6  white  \n",
              "1      9.5        6  white  \n",
              "2     10.1        6  white  \n",
              "3      9.9        6  white  \n",
              "4      9.9        6  white  "
            ],
            "text/html": [
              "\n",
              "  <div id=\"df-5abe8d4f-fb41-4c47-9a8b-206a80883d98\">\n",
              "    <div class=\"colab-df-container\">\n",
              "      <div>\n",
              "<style scoped>\n",
              "    .dataframe tbody tr th:only-of-type {\n",
              "        vertical-align: middle;\n",
              "    }\n",
              "\n",
              "    .dataframe tbody tr th {\n",
              "        vertical-align: top;\n",
              "    }\n",
              "\n",
              "    .dataframe thead th {\n",
              "        text-align: right;\n",
              "    }\n",
              "</style>\n",
              "<table border=\"1\" class=\"dataframe\">\n",
              "  <thead>\n",
              "    <tr style=\"text-align: right;\">\n",
              "      <th></th>\n",
              "      <th>fixed acidity</th>\n",
              "      <th>volatile acidity</th>\n",
              "      <th>citric acid</th>\n",
              "      <th>residual sugar</th>\n",
              "      <th>chlorides</th>\n",
              "      <th>free sulfur dioxide</th>\n",
              "      <th>total sulfur dioxide</th>\n",
              "      <th>density</th>\n",
              "      <th>pH</th>\n",
              "      <th>sulphates</th>\n",
              "      <th>alcohol</th>\n",
              "      <th>quality</th>\n",
              "      <th>type</th>\n",
              "    </tr>\n",
              "  </thead>\n",
              "  <tbody>\n",
              "    <tr>\n",
              "      <th>0</th>\n",
              "      <td>7.0</td>\n",
              "      <td>0.27</td>\n",
              "      <td>0.36</td>\n",
              "      <td>20.7</td>\n",
              "      <td>0.045</td>\n",
              "      <td>45.0</td>\n",
              "      <td>170.0</td>\n",
              "      <td>1.0010</td>\n",
              "      <td>3.00</td>\n",
              "      <td>0.45</td>\n",
              "      <td>8.8</td>\n",
              "      <td>6</td>\n",
              "      <td>white</td>\n",
              "    </tr>\n",
              "    <tr>\n",
              "      <th>1</th>\n",
              "      <td>6.3</td>\n",
              "      <td>0.30</td>\n",
              "      <td>0.34</td>\n",
              "      <td>1.6</td>\n",
              "      <td>0.049</td>\n",
              "      <td>14.0</td>\n",
              "      <td>132.0</td>\n",
              "      <td>0.9940</td>\n",
              "      <td>3.30</td>\n",
              "      <td>0.49</td>\n",
              "      <td>9.5</td>\n",
              "      <td>6</td>\n",
              "      <td>white</td>\n",
              "    </tr>\n",
              "    <tr>\n",
              "      <th>2</th>\n",
              "      <td>8.1</td>\n",
              "      <td>0.28</td>\n",
              "      <td>0.40</td>\n",
              "      <td>6.9</td>\n",
              "      <td>0.050</td>\n",
              "      <td>30.0</td>\n",
              "      <td>97.0</td>\n",
              "      <td>0.9951</td>\n",
              "      <td>3.26</td>\n",
              "      <td>0.44</td>\n",
              "      <td>10.1</td>\n",
              "      <td>6</td>\n",
              "      <td>white</td>\n",
              "    </tr>\n",
              "    <tr>\n",
              "      <th>3</th>\n",
              "      <td>7.2</td>\n",
              "      <td>0.23</td>\n",
              "      <td>0.32</td>\n",
              "      <td>8.5</td>\n",
              "      <td>0.058</td>\n",
              "      <td>47.0</td>\n",
              "      <td>186.0</td>\n",
              "      <td>0.9956</td>\n",
              "      <td>3.19</td>\n",
              "      <td>0.40</td>\n",
              "      <td>9.9</td>\n",
              "      <td>6</td>\n",
              "      <td>white</td>\n",
              "    </tr>\n",
              "    <tr>\n",
              "      <th>4</th>\n",
              "      <td>7.2</td>\n",
              "      <td>0.23</td>\n",
              "      <td>0.32</td>\n",
              "      <td>8.5</td>\n",
              "      <td>0.058</td>\n",
              "      <td>47.0</td>\n",
              "      <td>186.0</td>\n",
              "      <td>0.9956</td>\n",
              "      <td>3.19</td>\n",
              "      <td>0.40</td>\n",
              "      <td>9.9</td>\n",
              "      <td>6</td>\n",
              "      <td>white</td>\n",
              "    </tr>\n",
              "  </tbody>\n",
              "</table>\n",
              "</div>\n",
              "      <button class=\"colab-df-convert\" onclick=\"convertToInteractive('df-5abe8d4f-fb41-4c47-9a8b-206a80883d98')\"\n",
              "              title=\"Convert this dataframe to an interactive table.\"\n",
              "              style=\"display:none;\">\n",
              "        \n",
              "  <svg xmlns=\"http://www.w3.org/2000/svg\" height=\"24px\"viewBox=\"0 0 24 24\"\n",
              "       width=\"24px\">\n",
              "    <path d=\"M0 0h24v24H0V0z\" fill=\"none\"/>\n",
              "    <path d=\"M18.56 5.44l.94 2.06.94-2.06 2.06-.94-2.06-.94-.94-2.06-.94 2.06-2.06.94zm-11 1L8.5 8.5l.94-2.06 2.06-.94-2.06-.94L8.5 2.5l-.94 2.06-2.06.94zm10 10l.94 2.06.94-2.06 2.06-.94-2.06-.94-.94-2.06-.94 2.06-2.06.94z\"/><path d=\"M17.41 7.96l-1.37-1.37c-.4-.4-.92-.59-1.43-.59-.52 0-1.04.2-1.43.59L10.3 9.45l-7.72 7.72c-.78.78-.78 2.05 0 2.83L4 21.41c.39.39.9.59 1.41.59.51 0 1.02-.2 1.41-.59l7.78-7.78 2.81-2.81c.8-.78.8-2.07 0-2.86zM5.41 20L4 18.59l7.72-7.72 1.47 1.35L5.41 20z\"/>\n",
              "  </svg>\n",
              "      </button>\n",
              "      \n",
              "  <style>\n",
              "    .colab-df-container {\n",
              "      display:flex;\n",
              "      flex-wrap:wrap;\n",
              "      gap: 12px;\n",
              "    }\n",
              "\n",
              "    .colab-df-convert {\n",
              "      background-color: #E8F0FE;\n",
              "      border: none;\n",
              "      border-radius: 50%;\n",
              "      cursor: pointer;\n",
              "      display: none;\n",
              "      fill: #1967D2;\n",
              "      height: 32px;\n",
              "      padding: 0 0 0 0;\n",
              "      width: 32px;\n",
              "    }\n",
              "\n",
              "    .colab-df-convert:hover {\n",
              "      background-color: #E2EBFA;\n",
              "      box-shadow: 0px 1px 2px rgba(60, 64, 67, 0.3), 0px 1px 3px 1px rgba(60, 64, 67, 0.15);\n",
              "      fill: #174EA6;\n",
              "    }\n",
              "\n",
              "    [theme=dark] .colab-df-convert {\n",
              "      background-color: #3B4455;\n",
              "      fill: #D2E3FC;\n",
              "    }\n",
              "\n",
              "    [theme=dark] .colab-df-convert:hover {\n",
              "      background-color: #434B5C;\n",
              "      box-shadow: 0px 1px 3px 1px rgba(0, 0, 0, 0.15);\n",
              "      filter: drop-shadow(0px 1px 2px rgba(0, 0, 0, 0.3));\n",
              "      fill: #FFFFFF;\n",
              "    }\n",
              "  </style>\n",
              "\n",
              "      <script>\n",
              "        const buttonEl =\n",
              "          document.querySelector('#df-5abe8d4f-fb41-4c47-9a8b-206a80883d98 button.colab-df-convert');\n",
              "        buttonEl.style.display =\n",
              "          google.colab.kernel.accessAllowed ? 'block' : 'none';\n",
              "\n",
              "        async function convertToInteractive(key) {\n",
              "          const element = document.querySelector('#df-5abe8d4f-fb41-4c47-9a8b-206a80883d98');\n",
              "          const dataTable =\n",
              "            await google.colab.kernel.invokeFunction('convertToInteractive',\n",
              "                                                     [key], {});\n",
              "          if (!dataTable) return;\n",
              "\n",
              "          const docLinkHtml = 'Like what you see? Visit the ' +\n",
              "            '<a target=\"_blank\" href=https://colab.research.google.com/notebooks/data_table.ipynb>data table notebook</a>'\n",
              "            + ' to learn more about interactive tables.';\n",
              "          element.innerHTML = '';\n",
              "          dataTable['output_type'] = 'display_data';\n",
              "          await google.colab.output.renderOutput(dataTable, element);\n",
              "          const docLink = document.createElement('div');\n",
              "          docLink.innerHTML = docLinkHtml;\n",
              "          element.appendChild(docLink);\n",
              "        }\n",
              "      </script>\n",
              "    </div>\n",
              "  </div>\n",
              "  "
            ]
          },
          "metadata": {},
          "execution_count": 67
        }
      ]
    },
    {
      "cell_type": "markdown",
      "source": [
        "* `Fixed acidity, volatile acidity, citric acid, residual sugar, chlorides, free sulfur dioxide, total sulfur dioxide, density, pH, sulphates, alcohol, white and red` contain the features that are used to classify the quality of the wines. \n",
        "\n",
        "* `quality`: Contains the the classes for the wine quality."
      ],
      "metadata": {
        "id": "n_97RolHzV-7"
      }
    },
    {
      "cell_type": "code",
      "source": [
        "# We separate the data in training (input) and testing (output) \n",
        "wine_input_data = wine_data.drop(\"quality\", axis=1)\n",
        "wine_output_data = wine_data[\"quality\"]"
      ],
      "metadata": {
        "id": "-jjGlMTejA22"
      },
      "execution_count": null,
      "outputs": []
    },
    {
      "cell_type": "code",
      "source": [
        "white = []\n",
        "red = []\n",
        "for i in range(len(wine_input_data)):\n",
        "    # We create new boolean columns for the types of wine: \"white\" and \"red\"\n",
        "    if wine_input_data[\"type\"][i] == \"white\":\n",
        "        white.append(1)\n",
        "        red.append(0)\n",
        "    else:\n",
        "        white.append(0)\n",
        "        red.append(1)\n",
        "\n",
        "wine_input_data[\"white\"] = white\n",
        "wine_input_data[\"red\"] = red\n",
        "wine_input_data = wine_input_data.drop(\"type\", axis=1)"
      ],
      "metadata": {
        "id": "tFZX3HOD6Q3u"
      },
      "execution_count": null,
      "outputs": []
    },
    {
      "cell_type": "markdown",
      "source": [
        "The data is divided into train and test with the `train_test_split` function:\n",
        "\n",
        "*   `wine_input_data` contains the data used for training\n",
        "*   `wine_output_data` contains the quality values\n"
      ],
      "metadata": {
        "id": "IfOz9zViKzWF"
      }
    },
    {
      "cell_type": "code",
      "source": [
        "# We divide the original dataset into training & testing sets\n",
        "wine_x_train, wine_x_test, wine_y_train, wine_y_test = train_test_split(wine_input_data, wine_output_data, test_size=0.28, random_state=6)\n",
        "\n",
        "# We create a new scaler based on the training data\n",
        "scaler = StandardScaler().fit(wine_input_data)\n",
        "\n",
        "# We scale the data\n",
        "wine_x_train = scaler.transform(wine_x_train)\n",
        "wine_x_test = scaler.transform(wine_x_test)"
      ],
      "metadata": {
        "id": "Yu1WM40tFtGF"
      },
      "execution_count": null,
      "outputs": []
    },
    {
      "cell_type": "markdown",
      "source": [
        "## Multilayer Perceptron"
      ],
      "metadata": {
        "id": "z9ex0LbH_zZL"
      }
    },
    {
      "cell_type": "markdown",
      "source": [
        "We implement a multi-layered perceptron using backpropagation, now for multi-class data:\n",
        "\n",
        "### Building the `MLPClassifier` model\n",
        "We set it at 10 units in the hidden layer."
      ],
      "metadata": {
        "id": "m5t0bzi4hRNq"
      }
    },
    {
      "cell_type": "code",
      "source": [
        "# Build an multilayer perceptron using MLPClassifier function \n",
        "wine_mlp = MLPClassifier(hidden_layer_sizes=(10,10), max_iter=1000)\n",
        "wine_mlp.fit(wine_x_train, wine_y_train)\n",
        "wine_mlp_predictions = wine_mlp.predict(wine_x_test)"
      ],
      "metadata": {
        "id": "sLGS6FlhwgKM"
      },
      "execution_count": null,
      "outputs": []
    },
    {
      "cell_type": "markdown",
      "source": [
        "### Plot the loss function for this MLP"
      ],
      "metadata": {
        "id": "y_rMuuYDT3WI"
      }
    },
    {
      "cell_type": "code",
      "source": [
        "print (wine_mlp.score(wine_x_train,wine_y_train))\n",
        "plt.plot(wine_mlp.loss_curve_)\n",
        "plt.xlabel('n-iterations')\n",
        "print('Iterations: ', len(wine_mlp.loss_curve_))"
      ],
      "metadata": {
        "colab": {
          "base_uri": "https://localhost:8080/",
          "height": 314
        },
        "id": "SE1BWSY7T3jA",
        "outputId": "51b7a852-9d74-471e-ed3c-5a1e03ddb9f2"
      },
      "execution_count": null,
      "outputs": [
        {
          "output_type": "stream",
          "name": "stdout",
          "text": [
            "0.5896942484498611\n",
            "Iterations:  439\n"
          ]
        },
        {
          "output_type": "display_data",
          "data": {
            "text/plain": [
              "<Figure size 432x288 with 1 Axes>"
            ],
            "image/png": "[encoded data removed]"
          },
          "metadata": {
            "needs_background": "light"
          }
        }
      ]
    },
    {
      "cell_type": "markdown",
      "source": [
        "### Evaluate the results of the model for multi-class classification"
      ],
      "metadata": {
        "id": "lsJs9DuC2_6k"
      }
    },
    {
      "cell_type": "code",
      "source": [
        "#Build a variable report and use classification_report function\n",
        "c_report = classification_report(wine_y_test, wine_mlp_predictions)\n",
        "\n",
        "#print results\n",
        "print(\"Classification report for classifier %s:\\n%s\\n\"\n",
        "      % (wine_mlp_predictions, c_report))\n",
        "\n",
        "cfn_matrix = confusion_matrix(wine_y_test, wine_mlp_predictions)\n",
        "\n",
        "print(\"Confusion matrix:\\n%s\" % cfn_matrix)"
      ],
      "metadata": {
        "id": "iY_Uvfc92_X_",
        "colab": {
          "base_uri": "https://localhost:8080/"
        },
        "outputId": "7720e886-d140-40ff-c590-f7adc0198721"
      },
      "execution_count": null,
      "outputs": [
        {
          "output_type": "stream",
          "name": "stdout",
          "text": [
            "Classification report for classifier [5 6 6 ... 6 6 5]:\n",
            "              precision    recall  f1-score   support\n",
            "\n",
            "           3       0.00      0.00      0.00         6\n",
            "           4       0.30      0.05      0.09        55\n",
            "           5       0.59      0.64      0.62       586\n",
            "           6       0.54      0.64      0.58       801\n",
            "           7       0.56      0.37      0.45       328\n",
            "           8       0.00      0.00      0.00        44\n",
            "\n",
            "    accuracy                           0.56      1820\n",
            "   macro avg       0.33      0.28      0.29      1820\n",
            "weighted avg       0.54      0.56      0.54      1820\n",
            "\n",
            "\n",
            "Confusion matrix:\n",
            "[[  0   1   3   2   0   0]\n",
            " [  1   3  32  18   1   0]\n",
            " [  2   3 376 203   2   0]\n",
            " [  0   3 214 512  72   0]\n",
            " [  0   0  10 196 122   0]\n",
            " [  0   0   0  22  22   0]]\n"
          ]
        },
        {
          "output_type": "stream",
          "name": "stderr",
          "text": [
            "/usr/local/lib/python3.7/dist-packages/sklearn/metrics/_classification.py:1318: UndefinedMetricWarning: Precision and F-score are ill-defined and being set to 0.0 in labels with no predicted samples. Use `zero_division` parameter to control this behavior.\n",
            "  _warn_prf(average, modifier, msg_start, len(result))\n",
            "/usr/local/lib/python3.7/dist-packages/sklearn/metrics/_classification.py:1318: UndefinedMetricWarning: Precision and F-score are ill-defined and being set to 0.0 in labels with no predicted samples. Use `zero_division` parameter to control this behavior.\n",
            "  _warn_prf(average, modifier, msg_start, len(result))\n",
            "/usr/local/lib/python3.7/dist-packages/sklearn/metrics/_classification.py:1318: UndefinedMetricWarning: Precision and F-score are ill-defined and being set to 0.0 in labels with no predicted samples. Use `zero_division` parameter to control this behavior.\n",
            "  _warn_prf(average, modifier, msg_start, len(result))\n"
          ]
        }
      ]
    },
    {
      "cell_type": "code",
      "source": [
        "#Define a function that plots the confusion matrix without normalization to verify if results are accurate or not\n",
        "def plot_confusion_matrix(cm, classes,\n",
        "                          normalize=False,\n",
        "                          title='Confusion matrix',\n",
        "                          cmap=plt.cm.Purples):\n",
        " \n",
        "    plt.imshow(cm, interpolation='nearest', cmap=cmap)\n",
        "    plt.title(title)\n",
        "    plt.colorbar()\n",
        "    tick_marks = np.arange(len(classes))\n",
        "    plt.xticks(tick_marks, classes, rotation=45)\n",
        "    plt.yticks(tick_marks, classes)\n",
        "\n",
        "    if normalize:\n",
        "        cm = cm.astype('float') / cm.sum(axis=1)[:, np.newaxis]\n",
        "        print(\"Normalized confusion matrix\")\n",
        "    else:\n",
        "        print('Confusion matrix, without normalization')\n",
        "\n",
        "    for i, j in itertools.product(range(cm.shape[0]), range(cm.shape[1])):\n",
        "        plt.text(j, i, \"{:1.2f}\".format(cm[i, j]),\n",
        "                 horizontalalignment=\"center\",\n",
        "                 # For the purpose of having a clearer visualization, make only the largest values white\n",
        "                 color=\"white\" if cm[i, j] > 0.63 else \"black\")\n",
        "\n",
        "    plt.tight_layout()\n",
        "    plt.ylabel('True label')\n",
        "    plt.xlabel('Predicted label')"
      ],
      "metadata": {
        "id": "PU-4TdsSI1hM"
      },
      "execution_count": null,
      "outputs": []
    },
    {
      "cell_type": "code",
      "source": [
        "#Plot the matrix\n",
        "cnf_matrix = confusion_matrix(wine_y_test, wine_mlp_predictions)\n",
        "plt.figure()\n",
        "\n",
        "# Since we have very little examples for wines with a quality of 9, they do not figure in our analysis\n",
        "plot_confusion_matrix(cnf_matrix, classes=['3', '4', '5', '6', '7', '8'], normalize=True)"
      ],
      "metadata": {
        "id": "8apx_Fo-3_xr",
        "colab": {
          "base_uri": "https://localhost:8080/",
          "height": 329
        },
        "outputId": "93323ca5-9ef7-45fe-aa49-1002e8e8722b"
      },
      "execution_count": null,
      "outputs": [
        {
          "output_type": "stream",
          "name": "stdout",
          "text": [
            "Normalized confusion matrix\n"
          ]
        },
        {
          "output_type": "display_data",
          "data": {
            "text/plain": [
              "<Figure size 432x288 with 2 Axes>"
            ],
            "image/png": "[encoded data removed]"
          },
          "metadata": {
            "needs_background": "light"
          }
        }
      ]
    },
    {
      "cell_type": "markdown",
      "source": [
        "### Model Evaluation"
      ],
      "metadata": {
        "id": "6u0LWFlS95go"
      }
    },
    {
      "cell_type": "code",
      "source": [
        "print(\"Accuracy of wine quality classification with MLP: \", accuracy(cfn_matrix))"
      ],
      "metadata": {
        "id": "9cMC3_3J55Ix",
        "colab": {
          "base_uri": "https://localhost:8080/"
        },
        "outputId": "e7619b28-5505-4a45-ba26-0318525309fa"
      },
      "execution_count": null,
      "outputs": [
        {
          "output_type": "stream",
          "name": "stdout",
          "text": [
            "Accuracy of wine quality classification with MLP:  0.5565934065934066\n"
          ]
        }
      ]
    },
    {
      "cell_type": "markdown",
      "source": [
        ""
      ],
      "metadata": {
        "id": "mZcoCLW1Ywjb"
      }
    },
    {
      "cell_type": "markdown",
      "source": [
        "The accuracy for the MLP for wine quality is 55.6%; these results are not as favorable as the ones we observed for the wine type classification. \n",
        "\n",
        "The prediction seems to do better for wines with a quality of 5 (64% of accuracy) and for wines with a quality of 6 (64%). Nevertheless, the model is biased towards predicting these two values even when the true ones are distinct ones. In particular, the model is biased towards predicting 5 even though the true quality values are 3 or 4; and it is also biased towards predicting 6 when the true values are 7 or 8. In other words, there are many false negatives around these central quality values.\n",
        "\n",
        "This could be due to the nature of the dataset: There are more examples of wines with qualities of 5 & 6 for the model to train/test:"
      ],
      "metadata": {
        "id": "7T5oc8qhAi8R"
      }
    },
    {
      "cell_type": "code",
      "source": [
        "# Validate the unique values that conform the \"quality\" feature\n",
        "print(wine_data['quality'].value_counts())"
      ],
      "metadata": {
        "colab": {
          "base_uri": "https://localhost:8080/"
        },
        "id": "CnfCZh42Xix5",
        "outputId": "bf987f45-35bd-4a28-8702-3a8be08389a5"
      },
      "execution_count": null,
      "outputs": [
        {
          "output_type": "stream",
          "name": "stdout",
          "text": [
            "6    2836\n",
            "5    2138\n",
            "7    1079\n",
            "4     216\n",
            "8     193\n",
            "3      30\n",
            "9       5\n",
            "Name: quality, dtype: int64\n"
          ]
        }
      ]
    },
    {
      "cell_type": "markdown",
      "source": [
        "\n",
        "\n",
        "> ## Alternative models\n",
        "\n"
      ],
      "metadata": {
        "id": "m6IIqsbS__GY"
      }
    },
    {
      "cell_type": "markdown",
      "source": [
        "### K-Nearest Neighbors\n",
        "\n",
        "A supervised, nearest-neighbors based learning to classify the data.\n",
        "\n",
        "Its objective is to find a predefined number of training samples close in distance to the new point, and predict the label from them.\n",
        "\n",
        "It is a non-generalizing machine learning method: it simply stores instances of the training data; classification is then computed from a simple majority vote of the nearest neighbors of each point."
      ],
      "metadata": {
        "id": "8OGQZFgdEgRY"
      }
    },
    {
      "cell_type": "code",
      "source": [
        "# KD Tree: tree-based data structures, Uniform weights: assign uniform weights to each neighbor\n",
        "wine_knn = KNeighborsClassifier(n_neighbors=50, metric=\"euclidean\", algorithm=\"kd_tree\", weights='uniform')\n",
        "wine_knn.fit(wine_x_train, wine_y_train)\n",
        "wine_knn_predictions = wine_knn.predict(wine_x_test)"
      ],
      "metadata": {
        "id": "g2J68q0r_P2X"
      },
      "execution_count": null,
      "outputs": []
    },
    {
      "cell_type": "markdown",
      "source": [
        "### Decision Tree\n",
        "\n",
        "It is a non-parametric learning method, capable of performing multi-class classification. \n",
        "\n",
        "It is used to predict the value of a target variable by learning simple decision rules inferred from the data features; it can be used to gain insight on the relation between the features and the predicted data.\n"
      ],
      "metadata": {
        "id": "4SO3sincRpc_"
      }
    },
    {
      "cell_type": "code",
      "source": [
        "# Gini criterion: to minimize the probability of misclassification\n",
        "wine_tree = tree.DecisionTreeClassifier(criterion=\"gini\", splitter=\"best\", ccp_alpha=0.006)\n",
        "wine_tree = wine_tree.fit(wine_x_train, wine_y_train)\n",
        "wine_tree_predictions = wine_tree.predict(wine_x_test)"
      ],
      "metadata": {
        "id": "Zy6GU0HSR50Z"
      },
      "execution_count": null,
      "outputs": []
    },
    {
      "cell_type": "markdown",
      "source": [
        "### Model Evaluation"
      ],
      "metadata": {
        "id": "dhQQnLW3dPTm"
      }
    },
    {
      "cell_type": "code",
      "source": [
        "# Finally, we evaluate the accuracy of correct predictions for the alternative models\n",
        "wine_knn_accuracy = metrics.accuracy_score(wine_y_test, wine_knn_predictions)\n",
        "wine_tree_accuracy = metrics.accuracy_score(wine_y_test, wine_tree_predictions)\n",
        "\n",
        "print(\"Accuracy of wine quality classification with K-Neighbors: \", wine_knn_accuracy)\n",
        "print(\"Accuracy of wine quality classification with Decision Tree: \", wine_tree_accuracy)"
      ],
      "metadata": {
        "id": "uEuKYS1s1yDY",
        "colab": {
          "base_uri": "https://localhost:8080/"
        },
        "outputId": "1754cc70-3551-42eb-dccc-8a0ae117629d"
      },
      "execution_count": null,
      "outputs": [
        {
          "output_type": "stream",
          "name": "stdout",
          "text": [
            "Accuracy of wine quality classification with K-Neighbors:  0.5620879120879121\n",
            "Accuracy of wine quality classification with Decision Tree:  0.5087912087912088\n"
          ]
        }
      ]
    },
    {
      "cell_type": "markdown",
      "source": [
        "The accuracies for the alternative models' predictions are similar to the MLP results, they are not very precise:\n",
        "\n",
        "*   K-Nearest Neighbors has an accuracy of 56%\n",
        "*   Decision Tree has an accuracy of 51%\n"
      ],
      "metadata": {
        "id": "kjDsfmPv-tjT"
      }
    },
    {
      "cell_type": "code",
      "source": [
        ""
      ],
      "metadata": {
        "id": "qGys3Oy6P3Vf"
      },
      "execution_count": null,
      "outputs": []
    }
  ]
}